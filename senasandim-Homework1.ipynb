{
 "cells": [
  {
   "cell_type": "code",
   "execution_count": null,
   "metadata": {},
   "outputs": [],
   "source": [
    "print(\"iki bilinmeyenli denklem kök\")\n",
    "print(\"Denkleminiz (ax**2+b*x+c)şeklinde olmalıdır\")\n",
    "a=int(input(\"a değerini giriniz:\"))\n",
    "b=int(input(\"b değerini giriniz:\"))\n",
    "c=int(input(\"c değerini giriniz:\"))\n",
    "delta=b**2-4*a*c\n",
    "x1=(-b-delta**0.5)/(2*a)\n",
    "x2=(-2+delta**0.5)/(2*a)\n",
    "if delta<0:\n",
    "    print(\"reel kök yoktur\")\n",
    "if delta=0:\n",
    "    print(\"iki çakışık iki kök vardır.\")\n",
    "    print(\"denkleminizin birinci kökü:{}\\n denkleminizin ikinci kökü:{}\\n\".format(x1,x2))\n",
    "    if delta>0:\n",
    "        print(\"gerçek iki kökü vardır\")\n",
    "        print(\"denkleminizin birinci kökü:{}\\n denkleminizin ikinci kökü:{}\\n\".format(x1,x2))"
   ]
  },
  {
   "cell_type": "code",
   "execution_count": null,
   "metadata": {},
   "outputs": [],
   "source": []
  },
  {
   "cell_type": "code",
   "execution_count": null,
   "metadata": {},
   "outputs": [],
   "source": []
  }
 ],
 "metadata": {
  "kernelspec": {
   "display_name": "Python 3",
   "language": "python",
   "name": "python3"
  },
  "language_info": {
   "codemirror_mode": {
    "name": "ipython",
    "version": 3
   },
   "file_extension": ".py",
   "mimetype": "text/x-python",
   "name": "python",
   "nbconvert_exporter": "python",
   "pygments_lexer": "ipython3",
   "version": "3.7.4"
  }
 },
 "nbformat": 4,
 "nbformat_minor": 2
}
